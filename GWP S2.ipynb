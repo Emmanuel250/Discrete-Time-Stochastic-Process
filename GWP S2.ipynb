{
 "cells": [
  {
   "cell_type": "markdown",
   "id": "e492b59a",
   "metadata": {},
   "source": [
    "# European Option Pricing"
   ]
  },
  {
   "cell_type": "markdown",
   "id": "a130aaf7",
   "metadata": {},
   "source": [
    "A European option is a version of an options contract that can only be exercised at the time of expiration date. By contrast, An American option gives the right not obligation to buy or sell an option at any time before the expiry. The two nomenclatures have no geographical relations. In this submission, we will draw attention to European options.\n",
    "\n",
    "There exists European Call and Put options.\n",
    "\n",
    "**Call option gives the owner the right to acquire some underlying security at expiry.\n",
    "\n",
    "**Put option allows the holder to sell the underlying security at expiry."
   ]
  },
  {
   "cell_type": "markdown",
   "id": "42763e17",
   "metadata": {},
   "source": [
    "1. Given Data "
   ]
  },
  {
   "cell_type": "markdown",
   "id": "7c08c322",
   "metadata": {},
   "source": [
    "Parameters of Group 25\n",
    "\n",
    "$u = 1.1 + \\frac{25}{100} = 1.35$\n",
    "\n",
    "$d = \\frac{1}{u} = 0.74$\n",
    "\n",
    "$p^* = \\frac{1 - d}{u - d} = 0.4255$"
   ]
  },
  {
   "cell_type": "code",
   "execution_count": 1,
   "id": "2bafb011",
   "metadata": {},
   "outputs": [],
   "source": [
    "S = 95  #initial underlying asset price\n",
    "K = 105 #strike price\n",
    "t = 1.0 #time to expiry\n",
    "v = 0.0 #sigma, volatility\n",
    "n = 3 #number of steps\n",
    "r = 0.0 #risk-free interest rate\n",
    "T = t * n\n",
    "u = 1.35\n",
    "d = 1 / u\n",
    "At = t / n \n",
    "p = (1 - d) / (u - d) "
   ]
  },
  {
   "cell_type": "markdown",
   "id": "753f13e2",
   "metadata": {},
   "source": [
    " 2. Important definitions"
   ]
  },
  {
   "cell_type": "code",
   "execution_count": 2,
   "id": "1438e397",
   "metadata": {},
   "outputs": [],
   "source": [
    "from math import exp\n",
    "import pandas as pd\n",
    "import numpy as np\n",
    "import math as m"
   ]
  },
  {
   "cell_type": "code",
   "execution_count": 3,
   "id": "2d78fc7e",
   "metadata": {},
   "outputs": [],
   "source": [
    "\n",
    "def Stock_values(n, S, t):  \n",
    "    #Binomial price tree\n",
    "    stockvalue = np.zeros((n+1, n+1))\n",
    "    stockvalue[0,0] = S\n",
    "    for j in range(1, n+1):\n",
    "        for i in range(j+1):\n",
    "            stockvalue[i,j] = S*m.pow(d,i)*m.pow(u,j-i)\n",
    "    return stockvalue\n",
    "def Call_values(n, S, t, K):  \n",
    "    callvalue = np.zeros((n+1, n+1))\n",
    "    for j in range(1, n+1):\n",
    "        for i in range(j+1):\n",
    "            callvalue[i,j] = max(S*m.pow(d,i)*m.pow(u,j-i) - K, 0) # Call = S-k\n",
    "    return callvalue\n",
    "def Put_values(n2, S, t, K):  \n",
    "    putvalue = np.zeros((n+1, n+1))\n",
    "    for j in range(1, n+1):\n",
    "        for i in range(j+1):\n",
    "            putvalue[i,j] = max(K- S*m.pow(d,i)*m.pow(u,j-i), 0) # Put = k-S\n",
    "    return putvalue"
   ]
  },
  {
   "cell_type": "markdown",
   "id": "01a63313",
   "metadata": {},
   "source": [
    "3. Binomial model"
   ]
  },
  {
   "cell_type": "code",
   "execution_count": 4,
   "id": "eeb511f3",
   "metadata": {},
   "outputs": [],
   "source": [
    "def binomial(S,K,T,r,u,d,n,put=False,am=True):\n",
    "    list=[];values=[]\n",
    "    pos=-1 if put==True else 1\n",
    "    for m in range(n+1):\n",
    "        st=S*(u**(m))*(d**(n-m)) \n",
    "        values.append(max(pos*(st-K),0)) \n",
    "        for i in range(m+1):  \n",
    "            st=S*(u**(m-i))*(d**i)\n",
    "            if n<10: list.append(f's0*u^{m-i}(d^{i})={round(st,2)}')\n",
    "            elif n>=10: list.append(round(st,2))\n",
    "            elif n>=38: list.append(round(st,1))\n",
    "    for k in range(n-1,-1,-1): \n",
    "        for i in range(k+1):\n",
    "            if am: values[i]=max(pos*(S*u**i*d**(k-i)-K),exp(-r*t)*(p*values[i+1]+(1-p)*values[i]))\n",
    "            else: values[i]=exp(-r*t)*(p*values[i+1]+(1-p)*values[i]) \n",
    "    if put:            \n",
    "        put= round(values[0],2)\n",
    "        call=round(put-K*exp(-r*T)+S,2)\n",
    "        if am:\n",
    "            print(f\"Call Option Value________{call}\")\n",
    "            print(f\"Put Option Value_________{put}\")\n",
    "\n",
    "        else:\n",
    "            print(f\"Put-Call parity Check____{put+S} = {call+K*exp(-r*T)}\")\n",
    "            print(f\"Call Option Value________{call}\")\n",
    "            print(f\"Put Option Value_________{put}\")\n",
    "    else:  \n",
    "        call=round(values[0],2)\n",
    "        put=round(call+K*exp(-r*T)-S,2)\n",
    "        print(f\"Put-Call parity Check ____{put+S} = {call+K*exp(-r*T)}\")\n",
    "        print(f\"Call Option Value_________{call}\")\n",
    "        print(f\"Put Option Value__________{put}\")\n",
    "    return list"
   ]
  },
  {
   "cell_type": "markdown",
   "id": "ca9606f6",
   "metadata": {},
   "source": [
    "# The Price of European Call Option; N=3"
   ]
  },
  {
   "cell_type": "markdown",
   "id": "da8d5c64",
   "metadata": {},
   "source": [
    "**a. S = 95 USD, K = 105 USD, t = 1 year, r = 0, n = 3, u = 1.35, d = 1/u.**"
   ]
  },
  {
   "cell_type": "code",
   "execution_count": 5,
   "id": "539c2e2b",
   "metadata": {},
   "outputs": [
    {
     "name": "stdout",
     "output_type": "stream",
     "text": [
      "Put-Call parity Check ____122.18 = 122.18\n",
      "Call Option Value_________17.18\n",
      "Put Option Value__________27.18\n"
     ]
    }
   ],
   "source": [
    "Option=binomial(S,K,T,r,u,d,n,put=False,am=False)"
   ]
  },
  {
   "cell_type": "markdown",
   "id": "8ef2b8e4",
   "metadata": {},
   "source": [
    "The return value should specifically be **Call Option Value, however in order to verify the certainty,\n",
    "1. We need to perform a Put-Call parity check\n",
    "2. We need to see if the difference between Call value and Put value is the same as the difference between stock and strike prices.\n",
    "\n",
    "            **|S0-K|= Put-Call = 105-95 = 10"
   ]
  },
  {
   "cell_type": "markdown",
   "id": "b869e199",
   "metadata": {},
   "source": [
    "**b. Using the information from (a), show the value of the derivative, 𝐻(𝜔), for each of the paths**\n",
    "\n",
    "T_V --------Terminal Value<br>\n",
    "uu ---------Up Up<br>\n",
    "ud ---------Up Down<br>\n",
    "du ---------Down Up<br>\n",
    "dd -------- Down Down<br>"
   ]
  },
  {
   "cell_type": "code",
   "execution_count": 6,
   "id": "5c60ef5e",
   "metadata": {},
   "outputs": [
    {
     "data": {
      "text/html": [
       "<div>\n",
       "<style scoped>\n",
       "    .dataframe tbody tr th:only-of-type {\n",
       "        vertical-align: middle;\n",
       "    }\n",
       "\n",
       "    .dataframe tbody tr th {\n",
       "        vertical-align: top;\n",
       "    }\n",
       "\n",
       "    .dataframe thead th {\n",
       "        text-align: right;\n",
       "    }\n",
       "</style>\n",
       "<table border=\"1\" class=\"dataframe\">\n",
       "  <thead>\n",
       "    <tr style=\"text-align: right;\">\n",
       "      <th></th>\n",
       "      <th>0</th>\n",
       "      <th>1</th>\n",
       "      <th>2</th>\n",
       "      <th>T_V</th>\n",
       "    </tr>\n",
       "  </thead>\n",
       "  <tbody>\n",
       "    <tr>\n",
       "      <th>0</th>\n",
       "      <td>95.0</td>\n",
       "      <td>128.25</td>\n",
       "      <td>173.14</td>\n",
       "      <td>233.74</td>\n",
       "    </tr>\n",
       "    <tr>\n",
       "      <th>1</th>\n",
       "      <td>0.0</td>\n",
       "      <td>70.37</td>\n",
       "      <td>95.00</td>\n",
       "      <td>128.25</td>\n",
       "    </tr>\n",
       "    <tr>\n",
       "      <th>2</th>\n",
       "      <td>0.0</td>\n",
       "      <td>0.00</td>\n",
       "      <td>52.13</td>\n",
       "      <td>70.37</td>\n",
       "    </tr>\n",
       "    <tr>\n",
       "      <th>3</th>\n",
       "      <td>0.0</td>\n",
       "      <td>0.00</td>\n",
       "      <td>0.00</td>\n",
       "      <td>38.61</td>\n",
       "    </tr>\n",
       "  </tbody>\n",
       "</table>\n",
       "</div>"
      ],
      "text/plain": [
       "      0       1       2     T_V\n",
       "0  95.0  128.25  173.14  233.74\n",
       "1   0.0   70.37   95.00  128.25\n",
       "2   0.0    0.00   52.13   70.37\n",
       "3   0.0    0.00    0.00   38.61"
      ]
     },
     "execution_count": 6,
     "metadata": {},
     "output_type": "execute_result"
    }
   ],
   "source": [
    "dfS=pd.DataFrame(Stock_values(n, S, t))\n",
    "dfS.rename(columns={3:\"T_V\"}, inplace = True)\n",
    "dfS.round(2)"
   ]
  },
  {
   "attachments": {
    "B_T_Call%20Option.JPG": {
     "image/jpeg": "[encoded data removed]"
    }
   },
   "cell_type": "markdown",
   "id": "5b758374",
   "metadata": {},
   "source": [
    "![B_T_Call%20Option.JPG](attachment:B_T_Call%20Option.JPG)"
   ]
  },
  {
   "cell_type": "markdown",
   "id": "f28aecb7",
   "metadata": {},
   "source": [
    "<br><br><br>From the definition of European call option\n",
    "\n",
    "$ H=(X_T-K) = \\begin{cases} X_T-K & X_T > K\\\\ 0 & X_T \\leq K \\end{cases}$\n",
    "\n",
    "<br>\n",
    "<br>\n",
    "uuu: $H(\\omega)=233.74-105=128.74$<br>\n",
    "uud, udu, duu: $H(\\omega)=128.25-105=23.25$<br>\n",
    "udd, dud, ddu: $H(\\omega)=0,$   for $ 70.37<105 $<br>\n",
    "ddd: $H(\\omega)=0,$   for $38.61<105 $<br>"
   ]
  },
  {
   "cell_type": "markdown",
   "id": "cdf75a71",
   "metadata": {},
   "source": [
    "We will use the convention $u^kd^j$ to denote the event having $k$ up movements and $j$ down movements.\n",
    "\n",
    "By calculations, European call option is\n",
    "\n",
    "$\\pi_C=\\mathbb{E}^*(H(\\omega))=\\Sigma_{\\omega}\\mathbb{P}^*(\\omega) \\cdot H(\\omega) = H(u^3d^0) \\cdot \\mathbb{P}^*(u^3d^0) \\cdot {3 \\choose 0} + H(u^2d^1) \\cdot \\mathbb{P}^*(u^2d^1) \\cdot {3 \\choose 1} =\n",
    "128.74 \\cdot 0.4255^3 \\cdot 1 + 23.12 \\cdot 0.4255^2 \\cdot (1-0.4255) \\cdot 3 =17.18 $"
   ]
  },
  {
   "cell_type": "markdown",
   "id": "c92d2abf",
   "metadata": {},
   "source": [
    "# The Price of European Put Option; N=2"
   ]
  },
  {
   "cell_type": "markdown",
   "id": "31cdae8d",
   "metadata": {},
   "source": [
    "**a. S = 95 USD, K = 105 USD, t = 1 year, r = 0, n = 2, u = 1.35, d = 1/u.**"
   ]
  },
  {
   "cell_type": "code",
   "execution_count": 7,
   "id": "444634a4",
   "metadata": {},
   "outputs": [],
   "source": [
    "S = 95  #initial underlying asset price\n",
    "K = 105 #strike price\n",
    "t = 1.0 #time to expiry\n",
    "v = 0.0 #sigma, volatility\n",
    "n = 2 #number of steps\n",
    "r = 0.0 #risk-free interest rate\n",
    "T=t*n\n",
    "u = 1.35\n",
    "d = 1/u\n",
    "At = t/n \n",
    "p = (1-d)/(u-d) "
   ]
  },
  {
   "cell_type": "code",
   "execution_count": 8,
   "id": "a9f465ad",
   "metadata": {},
   "outputs": [
    {
     "name": "stdout",
     "output_type": "stream",
     "text": [
      "Put-Call parity Check ____117.34 = 117.34\n",
      "Call Option Value_________12.34\n",
      "Put Option Value__________22.34\n"
     ]
    }
   ],
   "source": [
    "Option=binomial(S,K,T,r,u,d,n,put=False,am=False)"
   ]
  },
  {
   "cell_type": "markdown",
   "id": "78e3e35f",
   "metadata": {},
   "source": [
    "The return value should specifically be **Put Option Value, however in order to verify the certainty,\n",
    "1. We need to perform a Put-Call parity check\n",
    "2. We need to see if the difference between Call value and Put value is the same as the difference between stock and strike prices.\n",
    "\n",
    "            **|S0-K|= Put-Call = 105-95 = 10"
   ]
  },
  {
   "cell_type": "code",
   "execution_count": 9,
   "id": "a8704bfe",
   "metadata": {},
   "outputs": [
    {
     "data": {
      "text/html": [
       "<div>\n",
       "<style scoped>\n",
       "    .dataframe tbody tr th:only-of-type {\n",
       "        vertical-align: middle;\n",
       "    }\n",
       "\n",
       "    .dataframe tbody tr th {\n",
       "        vertical-align: top;\n",
       "    }\n",
       "\n",
       "    .dataframe thead th {\n",
       "        text-align: right;\n",
       "    }\n",
       "</style>\n",
       "<table border=\"1\" class=\"dataframe\">\n",
       "  <thead>\n",
       "    <tr style=\"text-align: right;\">\n",
       "      <th></th>\n",
       "      <th>0</th>\n",
       "      <th>1</th>\n",
       "      <th>T_V</th>\n",
       "    </tr>\n",
       "  </thead>\n",
       "  <tbody>\n",
       "    <tr>\n",
       "      <th>0</th>\n",
       "      <td>95.0</td>\n",
       "      <td>128.25</td>\n",
       "      <td>173.14</td>\n",
       "    </tr>\n",
       "    <tr>\n",
       "      <th>1</th>\n",
       "      <td>0.0</td>\n",
       "      <td>70.37</td>\n",
       "      <td>95.00</td>\n",
       "    </tr>\n",
       "    <tr>\n",
       "      <th>2</th>\n",
       "      <td>0.0</td>\n",
       "      <td>0.00</td>\n",
       "      <td>52.13</td>\n",
       "    </tr>\n",
       "  </tbody>\n",
       "</table>\n",
       "</div>"
      ],
      "text/plain": [
       "      0       1     T_V\n",
       "0  95.0  128.25  173.14\n",
       "1   0.0   70.37   95.00\n",
       "2   0.0    0.00   52.13"
      ]
     },
     "execution_count": 9,
     "metadata": {},
     "output_type": "execute_result"
    }
   ],
   "source": [
    "dfS=pd.DataFrame(Stock_values(n, S, t))\n",
    "dfS.rename(columns={2:\"T_V\"}, inplace = True)\n",
    "dfS.round(2)"
   ]
  },
  {
   "attachments": {
    "B_T_Put%20Option.JPG": {
     "image/jpeg": "[encoded data removed]"
    }
   },
   "cell_type": "markdown",
   "id": "b6b5ec84",
   "metadata": {},
   "source": [
    "![B_T_Put%20Option.JPG](attachment:B_T_Put%20Option.JPG)"
   ]
  },
  {
   "cell_type": "markdown",
   "id": "ca9170d4",
   "metadata": {},
   "source": [
    "From the definition of European Put option\n",
    "\n",
    "$ H'=(K-X_T) = \\begin{cases} K-X_T & K > X_T\\\\ 0 & K \\leq X_T \\end{cases}$\n",
    "\n",
    "<br>\n",
    "<br>\n",
    "uu, $H'(ω)=0,$   for $ 173.14>105 $<br>\n",
    "ud, du, $H'(ω)=105-95=10$<br>\n",
    "dd, $H'(ω)=105-52.13=52.87 $<br>"
   ]
  },
  {
   "cell_type": "markdown",
   "id": "f6c1fa2d",
   "metadata": {},
   "source": [
    "By calculations, European Put option is:\n",
    "\n",
    "$\\pi_P=\\mathbb{E}^*(H(\\omega))=\\Sigma_{\\omega}\\mathbb{P}^*(\\omega) \\cdot H(\\omega) = H(u^1d^1) \\cdot \\mathbb{P}^*(u^1d^1) \\cdot {2 \\choose 1} + H(u^2d^1) \\cdot \\mathbb{P}^*(u^0d^2) \\cdot {2 \\choose 2} = $<br/>\n",
    "$10 \\cdot 0.4255 \\cdot (1 - 0.4255) \\cdot 2 + 52.87 \\cdot (1 - 0.4255)^2 \\cdot 1 = 22.34 $"
   ]
  },
  {
   "cell_type": "markdown",
   "id": "970eced4",
   "metadata": {},
   "source": [
    "**b. Table Construction**"
   ]
  },
  {
   "attachments": {
    "B_T_Put%20Option_RS.JPG": {
     "image/jpeg": "[encoded data removed]"
    }
   },
   "cell_type": "markdown",
   "id": "f3db732f",
   "metadata": {},
   "source": [
    "$π_p = V_0(φ)$ <br>\n",
    "Provided that, φ is a self replicating strategy,<br>\n",
    "$V^H_t$ = $π(H)+ \\sum_{k=1}^{t}  φ^H_k(X_k-X_(k-1))\\$, <br>\n",
    "\n",
    "Where\n",
    "$ V^H_T=E^*(H|\\mathcal{F}_T)=H $   and $ V_H $ is the value of replicating strategy, 𝜑 \n",
    "\n",
    "<br><br><br><br><br> If we construct new tree diagram according to replicating strategy,\n",
    "![B_T_Put%20Option_RS.JPG](attachment:B_T_Put%20Option_RS.JPG)\n",
    "\n",
    "Then, the values of x and y can be calculated as <br>\n",
    "**1. uu & ud is $x=0+10*(1-0.4255)=5.745$ which is $V^H_1$  at upward** and <br>\n",
    "**2. du & dd id $y=10*0.4255+52.87*(1-0.4255)=34.63$  which is $V^H_1$ at downward**<br><br>\n",
    "The values of V can be summarized in the following table:\n"
   ]
  },
  {
   "attachments": {
    "Eur_Put.JPG": {
     "image/jpeg": "[encoded data removed]"
    }
   },
   "cell_type": "markdown",
   "id": "7bb3f0b8",
   "metadata": {},
   "source": [
    "![Eur_Put.JPG](attachment:Eur_Put.JPG)"
   ]
  },
  {
   "cell_type": "markdown",
   "id": "e2db188a",
   "metadata": {},
   "source": [
    "The hedging strategy can be summarized as"
   ]
  },
  {
   "cell_type": "markdown",
   "id": "818ac2c9",
   "metadata": {},
   "source": [
    "$ 𝜑^T_H = \\frac{V^H_t-V^H_(t-1)}{X_t-X_(t-1)}$"
   ]
  },
  {
   "attachments": {
    "Eur_Put_RS.JPG": {
     "image/jpeg": "[encoded data removed]"
    }
   },
   "cell_type": "markdown",
   "id": "09f77cc6",
   "metadata": {},
   "source": [
    "![Eur_Put_RS.JPG](attachment:Eur_Put_RS.JPG)"
   ]
  },
  {
   "cell_type": "markdown",
   "id": "32c6cd6f",
   "metadata": {},
   "source": [
    "# Market Completeness Revisited"
   ]
  },
  {
   "cell_type": "markdown",
   "id": "fc2f54bc",
   "metadata": {},
   "source": [
    "Let us take the first node having $X_0 = 95$. We assume the bond has a constant price of $1$. Therefore, we have:\n",
    "\n",
    "$\n",
    "A=\n",
    "  \\begin{bmatrix}\n",
    "    X_0 \\cdot u & 1 \\\\\n",
    "    X_0 \\cdot d & 1\n",
    "  \\end{bmatrix}\n",
    "  =\\begin{bmatrix}\n",
    "    128.25 & 1 \\\\\n",
    "    70.37 & 1\n",
    "  \\end{bmatrix}\n",
    "$\n",
    "\n",
    "$\n",
    "b=\n",
    "  \\begin{bmatrix}\n",
    "    \\nu_1^H(u, u) \\\\\n",
    "    \\nu_1^H(d, u)\n",
    "  \\end{bmatrix}\n",
    "  =\n",
    "  \\begin{bmatrix}\n",
    "    \\nu_1^H(u, d) \\\\\n",
    "    \\nu_1^H(d, d)\n",
    "  \\end{bmatrix}\n",
    "  = \n",
    "  \\begin{bmatrix}\n",
    "    5.745 \\\\\n",
    "    34.63\n",
    "  \\end{bmatrix}\n",
    "$\n",
    "\n",
    "Solving $A \\cdot x = b$ gives us:\n",
    "\n",
    "$x= A^-1 \\cdot b =\n",
    "  \\begin{bmatrix}\n",
    "    -0.5 \\\\\n",
    "    69.75\n",
    "  \\end{bmatrix}$\n",
    "  \n",
    "The first element, $-0.5$, **coincides with the value of $\\phi_1^H$ obtained in the previous step**, as expected. It represents the amount of shares we should hold in a replicating strategy. The second values represents the amount of bond units (or cash) that should be held."
   ]
  },
  {
   "cell_type": "code",
   "execution_count": 10,
   "id": "7154314d",
   "metadata": {},
   "outputs": [
    {
     "data": {
      "text/plain": [
       "array([[-0.5 ],\n",
       "       [69.75]])"
      ]
     },
     "execution_count": 10,
     "metadata": {},
     "output_type": "execute_result"
    }
   ],
   "source": [
    "A = np.array([[128.25, 1], [70.37, 1]])\n",
    "b = np.array([5.745, 34.63]).reshape(-1, 1)\n",
    "x = np.dot(np.linalg.inv(A), b)\n",
    "x.round(2)"
   ]
  },
  {
   "cell_type": "markdown",
   "id": "00ca0667",
   "metadata": {},
   "source": [
    "# Put Call Parity\n",
    "\n",
    "We assume the risk-free rate has the constant value of 0. We use $X^T$ to denote the value of the stock at the option expiration time $T$, and $K$ to denote the strike price. The value of the call is $H^C$ and of the put is $H^P$. \n",
    "\n",
    "Therefore the first portfolio will have final value $H^1 = H^C - H^P$.\n",
    "\n",
    "The second portfolio is independent of the state of the world and has final value $H^2 = X^T - K$. Note that if the risk-free rate is taken to be greater than 0, the final value of $H^2$ changes, and includes a term for the interest accrued on the borrowed money.\n",
    "\n",
    "Let us analyse the 3 states of the world for the options:\n",
    "\n",
    "1. Final stock price > Strike\n",
    "\n",
    "If $X^T > K$, then $H^C = X^T - K$, and $H^P = 0$ (the put expires worthless, whereas the call is in the money). Therefore $H^1 = H^C - H^P = X^T - K$.\n",
    "\n",
    "2. Final stock price = Strike\n",
    "\n",
    "If $X^T = K$, we have $H^C = X^T - K = 0 = K - X^T = H^P$, so $H^1 = 0 = X^T - K$.\n",
    "\n",
    "3. Final stock price < Strike\n",
    "\n",
    "If $X^T < K$, then $H^C = 0$, and $H^P = K - X^T$ (the call expires worthless, whereas the put is in the money). Therefore $H^1 = H^C - H^P = -(K - X^T) = X^T - K$.\n",
    "\n",
    "In all 3 states of the world, we have:\n",
    "\n",
    "$H^1 = H^2 = X^T - K$, therefore the 2 portfolios satisfy put-call parity.\n",
    "\n",
    "\n",
    "**In real practices, there would be a discrepancy between the 2 portfolios if the risk free rate would not be 0. That discrepancy would be equal to the interest accrued.**"
   ]
  }
 ],
 "metadata": {
  "kernelspec": {
   "display_name": "Python 3",
   "language": "python",
   "name": "python3"
  },
  "language_info": {
   "codemirror_mode": {
    "name": "ipython",
    "version": 3
   },
   "file_extension": ".py",
   "mimetype": "text/x-python",
   "name": "python",
   "nbconvert_exporter": "python",
   "pygments_lexer": "ipython3",
   "version": "3.8.8"
  }
 },
 "nbformat": 4,
 "nbformat_minor": 5
}
