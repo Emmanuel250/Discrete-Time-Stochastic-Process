{
 "cells": [
  {
   "cell_type": "markdown",
   "id": "4d15ecf5",
   "metadata": {},
   "source": [
    "## Binomial Model - Group 25\n",
    "\n",
    "To begin our analysis of the binomial model, we must first define the up movement $u$, the down movement $d$, and the probability of an up movement. Our group number is 25, hence:\n",
    "\n",
    "$u = 1.1 + \\frac{25}{100} = 1.35$\n",
    "\n",
    "$d = \\frac{1}{u} = 0.74$\n",
    "\n",
    "$p^* = \\frac{1 - d}{u - d} = 0.4255$"
   ]
  },
  {
   "cell_type": "code",
   "execution_count": 1,
   "id": "5dcaeacb",
   "metadata": {},
   "outputs": [
    {
     "data": {
      "text/plain": [
       "(1.35, 0.7407407407407407, 0.425531914893617)"
      ]
     },
     "execution_count": 1,
     "metadata": {},
     "output_type": "execute_result"
    }
   ],
   "source": [
    "%matplotlib inline\n",
    "from GWP1 import u, d, p, binomial_tree\n",
    "import numpy as np\n",
    "import pandas as pd\n",
    "\n",
    "u, d, p"
   ]
  },
  {
   "cell_type": "markdown",
   "id": "43773b64",
   "metadata": {},
   "source": [
    "### Binomial Tree N=6\n",
    "The binomial tree is calculated using a simple function. It shows the value of X (the asset price) at each time step. The final price of a 6-step model is in $X_6$."
   ]
  },
  {
   "cell_type": "code",
   "execution_count": 2,
   "id": "7cc8ff7d",
   "metadata": {},
   "outputs": [
    {
     "data": {
      "text/html": [
       "<div>\n",
       "<style scoped>\n",
       "    .dataframe tbody tr th:only-of-type {\n",
       "        vertical-align: middle;\n",
       "    }\n",
       "\n",
       "    .dataframe tbody tr th {\n",
       "        vertical-align: top;\n",
       "    }\n",
       "\n",
       "    .dataframe thead th {\n",
       "        text-align: right;\n",
       "    }\n",
       "</style>\n",
       "<table border=\"1\" class=\"dataframe\">\n",
       "  <thead>\n",
       "    <tr style=\"text-align: right;\">\n",
       "      <th></th>\n",
       "      <th>path</th>\n",
       "      <th>p(path)</th>\n",
       "      <th>X_0</th>\n",
       "      <th>X_1</th>\n",
       "      <th>X_2</th>\n",
       "      <th>X_3</th>\n",
       "      <th>X_4</th>\n",
       "      <th>X_5</th>\n",
       "      <th>X_6</th>\n",
       "    </tr>\n",
       "  </thead>\n",
       "  <tbody>\n",
       "    <tr>\n",
       "      <th>0</th>\n",
       "      <td>uuuuuu</td>\n",
       "      <td>0.005937</td>\n",
       "      <td>100.0</td>\n",
       "      <td>135.000000</td>\n",
       "      <td>182.250000</td>\n",
       "      <td>246.037500</td>\n",
       "      <td>332.150625</td>\n",
       "      <td>448.403344</td>\n",
       "      <td>605.344514</td>\n",
       "    </tr>\n",
       "    <tr>\n",
       "      <th>1</th>\n",
       "      <td>uuuuud</td>\n",
       "      <td>0.008015</td>\n",
       "      <td>100.0</td>\n",
       "      <td>135.000000</td>\n",
       "      <td>182.250000</td>\n",
       "      <td>246.037500</td>\n",
       "      <td>332.150625</td>\n",
       "      <td>448.403344</td>\n",
       "      <td>332.150625</td>\n",
       "    </tr>\n",
       "    <tr>\n",
       "      <th>2</th>\n",
       "      <td>uuuudu</td>\n",
       "      <td>0.008015</td>\n",
       "      <td>100.0</td>\n",
       "      <td>135.000000</td>\n",
       "      <td>182.250000</td>\n",
       "      <td>246.037500</td>\n",
       "      <td>332.150625</td>\n",
       "      <td>246.037500</td>\n",
       "      <td>332.150625</td>\n",
       "    </tr>\n",
       "    <tr>\n",
       "      <th>3</th>\n",
       "      <td>uuuudd</td>\n",
       "      <td>0.010821</td>\n",
       "      <td>100.0</td>\n",
       "      <td>135.000000</td>\n",
       "      <td>182.250000</td>\n",
       "      <td>246.037500</td>\n",
       "      <td>332.150625</td>\n",
       "      <td>246.037500</td>\n",
       "      <td>182.250000</td>\n",
       "    </tr>\n",
       "    <tr>\n",
       "      <th>4</th>\n",
       "      <td>uuuduu</td>\n",
       "      <td>0.008015</td>\n",
       "      <td>100.0</td>\n",
       "      <td>135.000000</td>\n",
       "      <td>182.250000</td>\n",
       "      <td>246.037500</td>\n",
       "      <td>182.250000</td>\n",
       "      <td>246.037500</td>\n",
       "      <td>332.150625</td>\n",
       "    </tr>\n",
       "    <tr>\n",
       "      <th>...</th>\n",
       "      <td>...</td>\n",
       "      <td>...</td>\n",
       "      <td>...</td>\n",
       "      <td>...</td>\n",
       "      <td>...</td>\n",
       "      <td>...</td>\n",
       "      <td>...</td>\n",
       "      <td>...</td>\n",
       "      <td>...</td>\n",
       "    </tr>\n",
       "    <tr>\n",
       "      <th>59</th>\n",
       "      <td>dddudd</td>\n",
       "      <td>0.026623</td>\n",
       "      <td>100.0</td>\n",
       "      <td>74.074074</td>\n",
       "      <td>54.869684</td>\n",
       "      <td>40.644211</td>\n",
       "      <td>54.869684</td>\n",
       "      <td>40.644211</td>\n",
       "      <td>30.106823</td>\n",
       "    </tr>\n",
       "    <tr>\n",
       "      <th>60</th>\n",
       "      <td>dddduu</td>\n",
       "      <td>0.019721</td>\n",
       "      <td>100.0</td>\n",
       "      <td>74.074074</td>\n",
       "      <td>54.869684</td>\n",
       "      <td>40.644211</td>\n",
       "      <td>30.106823</td>\n",
       "      <td>40.644211</td>\n",
       "      <td>54.869684</td>\n",
       "    </tr>\n",
       "    <tr>\n",
       "      <th>61</th>\n",
       "      <td>ddddud</td>\n",
       "      <td>0.026623</td>\n",
       "      <td>100.0</td>\n",
       "      <td>74.074074</td>\n",
       "      <td>54.869684</td>\n",
       "      <td>40.644211</td>\n",
       "      <td>30.106823</td>\n",
       "      <td>40.644211</td>\n",
       "      <td>30.106823</td>\n",
       "    </tr>\n",
       "    <tr>\n",
       "      <th>62</th>\n",
       "      <td>dddddu</td>\n",
       "      <td>0.026623</td>\n",
       "      <td>100.0</td>\n",
       "      <td>74.074074</td>\n",
       "      <td>54.869684</td>\n",
       "      <td>40.644211</td>\n",
       "      <td>30.106823</td>\n",
       "      <td>22.301350</td>\n",
       "      <td>30.106823</td>\n",
       "    </tr>\n",
       "    <tr>\n",
       "      <th>63</th>\n",
       "      <td>dddddd</td>\n",
       "      <td>0.035941</td>\n",
       "      <td>100.0</td>\n",
       "      <td>74.074074</td>\n",
       "      <td>54.869684</td>\n",
       "      <td>40.644211</td>\n",
       "      <td>30.106823</td>\n",
       "      <td>22.301350</td>\n",
       "      <td>16.519519</td>\n",
       "    </tr>\n",
       "  </tbody>\n",
       "</table>\n",
       "<p>64 rows × 9 columns</p>\n",
       "</div>"
      ],
      "text/plain": [
       "      path   p(path)    X_0         X_1         X_2         X_3         X_4  \\\n",
       "0   uuuuuu  0.005937  100.0  135.000000  182.250000  246.037500  332.150625   \n",
       "1   uuuuud  0.008015  100.0  135.000000  182.250000  246.037500  332.150625   \n",
       "2   uuuudu  0.008015  100.0  135.000000  182.250000  246.037500  332.150625   \n",
       "3   uuuudd  0.010821  100.0  135.000000  182.250000  246.037500  332.150625   \n",
       "4   uuuduu  0.008015  100.0  135.000000  182.250000  246.037500  182.250000   \n",
       "..     ...       ...    ...         ...         ...         ...         ...   \n",
       "59  dddudd  0.026623  100.0   74.074074   54.869684   40.644211   54.869684   \n",
       "60  dddduu  0.019721  100.0   74.074074   54.869684   40.644211   30.106823   \n",
       "61  ddddud  0.026623  100.0   74.074074   54.869684   40.644211   30.106823   \n",
       "62  dddddu  0.026623  100.0   74.074074   54.869684   40.644211   30.106823   \n",
       "63  dddddd  0.035941  100.0   74.074074   54.869684   40.644211   30.106823   \n",
       "\n",
       "           X_5         X_6  \n",
       "0   448.403344  605.344514  \n",
       "1   448.403344  332.150625  \n",
       "2   246.037500  332.150625  \n",
       "3   246.037500  182.250000  \n",
       "4   246.037500  332.150625  \n",
       "..         ...         ...  \n",
       "59   40.644211   30.106823  \n",
       "60   40.644211   54.869684  \n",
       "61   40.644211   30.106823  \n",
       "62   22.301350   30.106823  \n",
       "63   22.301350   16.519519  \n",
       "\n",
       "[64 rows x 9 columns]"
      ]
     },
     "metadata": {},
     "output_type": "display_data"
    },
    {
     "name": "stdout",
     "output_type": "stream",
     "text": [
      "[605.34, 332.15, 332.15, 182.25, 332.15, 182.25, 182.25, 100.0, 332.15, 182.25, 182.25, 100.0, 182.25, 100.0, 100.0, 54.87, 332.15, 182.25, 182.25, 100.0, 182.25, 100.0, 100.0, 54.87, 182.25, 100.0, 100.0, 54.87, 100.0, 54.87, 54.87, 30.11, 332.15, 182.25, 182.25, 100.0, 182.25, 100.0, 100.0, 54.87, 182.25, 100.0, 100.0, 54.87, 100.0, 54.87, 54.87, 30.11, 182.25, 100.0, 100.0, 54.87, 100.0, 54.87, 54.87, 30.11, 100.0, 54.87, 54.87, 30.11, 54.87, 30.11, 30.11, 16.52]\n"
     ]
    }
   ],
   "source": [
    "t6 = binomial_tree(p0=100, steps=6, p=p)\n",
    "pd.options.display.max_rows = 20\n",
    "display(t6)\n",
    "# Terminal values\n",
    "print(t6['X_6'].round(2).to_list())"
   ]
  },
  {
   "cell_type": "markdown",
   "id": "3be47152",
   "metadata": {},
   "source": [
    "In order to determine the filtration of the terminal values, we must look at the blocks that generate each possible value."
   ]
  },
  {
   "cell_type": "code",
   "execution_count": 3,
   "id": "f3c40897",
   "metadata": {},
   "outputs": [
    {
     "name": "stdout",
     "output_type": "stream",
     "text": [
      "16.52 is produced by ['dddddd']\n",
      "30.107 is produced by ['uddddd', 'dudddd', 'dduddd', 'dddudd', 'ddddud', 'dddddu']\n",
      "54.87 is produced by ['uudddd', 'ududdd', 'uddudd', 'udddud', 'uddddu', 'duuddd', 'dududd', 'duddud', 'dudddu', 'dduudd', 'ddudud', 'dduddu', 'ddduud', 'dddudu', 'dddduu']\n",
      "100.0 is produced by ['uuuddd', 'uududd', 'uuddud', 'uudddu', 'uduudd', 'ududud', 'ududdu', 'udduud', 'uddudu', 'uddduu', 'duuudd', 'duudud', 'duuddu', 'duduud', 'dududu', 'dudduu', 'dduuud', 'dduudu', 'dduduu', 'ddduuu']\n",
      "182.25 is produced by ['uuuudd', 'uuudud', 'uuuddu', 'uuduud', 'uududu', 'uudduu', 'uduuud', 'uduudu', 'ududuu', 'udduuu', 'duuuud', 'duuudu', 'duuduu', 'duduuu', 'dduuuu']\n",
      "332.151 is produced by ['uuuuud', 'uuuudu', 'uuuduu', 'uuduuu', 'uduuuu', 'duuuuu']\n",
      "605.345 is produced by ['uuuuuu']\n"
     ]
    }
   ],
   "source": [
    "# Unique values, grouped by the price path\n",
    "by_terminal = t6.groupby(t6['X_6'].apply(lambda x: round(x, 3)))['path'].apply(list)\n",
    "for k, v in by_terminal.items():\n",
    "    print(k, 'is produced by', v)"
   ]
  },
  {
   "cell_type": "markdown",
   "id": "9656f59f",
   "metadata": {},
   "source": [
    "The filtration of terminal values is:\n",
    "\n",
    "$F_6 = \\sigma(\\{dddddd\\}, \\{uddddd, dudddd, dduddd, dddudd, ddddud, dddddu\\}, \\{uudddd, ududdd, uddudd, udddud, uddddu, duuddd, dududd, duddud, dudddu, dduudd, ddudud, dduddu, ddduud, dddudu, dddduu\\}, \\{uuuddd, uududd, uuddud, uudddu, uduudd, ududud, ududdu, udduud, uddudu, uddduu, duuudd, duudud, duuddu, duduud, dududu, dudduu, dduuud, dduudu, dduduu, ddduuu\\}, \\{uuuudd, uuudud, uuuddu, uuduud, uududu, uudduu, uduuud, uduudu, ududuu, udduuu, duuuud, duuudu, duuduu, duduuu, dduuuu\\}, \\{uuuuud, uuuudu, uuuduu, uuduuu, uduuuu, duuuuu\\}, \\{uuuuuu\\})$\n",
    "\n",
    "i.e. the sigma algebra made of blocks having 0 u, 1 u, 2 u, 3 u, 4 u, 5 u, 6 u."
   ]
  },
  {
   "cell_type": "markdown",
   "id": "23034fdf",
   "metadata": {},
   "source": [
    "### Binomial Tree N=4000\n",
    "\n",
    "To recalculate for N = 4000, we will pick 12 steps, such that the number of paths is 4096 (very close to 4000)."
   ]
  },
  {
   "cell_type": "code",
   "execution_count": 4,
   "id": "0c748ac3",
   "metadata": {},
   "outputs": [
    {
     "data": {
      "text/plain": [
       "4096"
      ]
     },
     "execution_count": 4,
     "metadata": {},
     "output_type": "execute_result"
    }
   ],
   "source": [
    "t_4000 = binomial_tree(p0=100, steps=12, p=p)\n",
    "len(t_4000.iloc[:, -1])"
   ]
  },
  {
   "cell_type": "markdown",
   "id": "3841f4b9",
   "metadata": {},
   "source": [
    "After re-calculating the tree, we can display the terminal values on a histogram."
   ]
  },
  {
   "cell_type": "code",
   "execution_count": 5,
   "id": "bcda6028",
   "metadata": {},
   "outputs": [
    {
     "data": {
      "image/png": "[encoded data removed]",
      "text/plain": [
       "<Figure size 432x288 with 1 Axes>"
      ]
     },
     "metadata": {
      "needs_background": "light"
     },
     "output_type": "display_data"
    }
   ],
   "source": [
    "# Plot of the terminal values.\n",
    "t_4000['X_12'].plot(kind='hist', bins=30);"
   ]
  },
  {
   "cell_type": "markdown",
   "id": "beed648f",
   "metadata": {},
   "source": [
    "The terminal values resemble a **log-normal distribution**. As we see below, this is because the log prices actually follow a binomial distribution (so the price distribution is actually a version of **log-binomial**)."
   ]
  },
  {
   "cell_type": "code",
   "execution_count": 6,
   "id": "d4fb7444",
   "metadata": {},
   "outputs": [
    {
     "data": {
      "image/png": "[encoded data removed]",
      "text/plain": [
       "<Figure size 432x288 with 1 Axes>"
      ]
     },
     "metadata": {
      "needs_background": "light"
     },
     "output_type": "display_data"
    }
   ],
   "source": [
    "r = np.log(t_4000['X_12'] / t_4000['X_0'])\n",
    "r.plot(kind='hist', weights=t_4000['p(path)'], bins=30);"
   ]
  },
  {
   "cell_type": "markdown",
   "id": "1ef6a6ec",
   "metadata": {},
   "source": [
    "The log-returns follow a shifted and scaled **binomial distribution**, which starts to look similar to the normal distribution, given the high number of steps in the tree.\n",
    "\n",
    "The return can be decomposed as:\n",
    "\n",
    "$ R = log(\\frac{X_{12}}{X_0}) = log(\\frac{X_0 u^n d^{12 - n}}{X_0}) = log(u^n d^{12 - n}) = n \\cdot log(\\frac{u}{d}) + 12 log(d) $, where $n$ is the number of up movements.\n",
    "\n",
    "It is clear that $n$ follows a binomial distribution $\\mathcal{Bin}(12, p)$, where $p$ is the probability of an up movement.\n",
    "\n",
    "For $X_{12}$, we have:\n",
    "\n",
    "$p(x) = {12 \\choose \\frac{x - 12 log(d)}{log(\\frac{u}{d})}} p^{\\frac{x - 12 log(d)}{log(\\frac{u}{d})}} (1-p)^{12 - \\frac{x - 12 log(d)}{log(\\frac{u}{d})}}$, if $x = k \\cdot log(\\frac{u}{d}) + 12 log(d)$ for $k \\in \\{0, 1, ..., 12\\}$, otherwise 0.\n",
    "\n",
    "Note that the above boils down to $p(x) = {12 \\choose k} p^k (1 - p)^{12 - k}$, which is the binomial pdf.\n"
   ]
  },
  {
   "cell_type": "markdown",
   "id": "268ded54",
   "metadata": {},
   "source": [
    "## Market Completeness\n",
    "\n",
    "### Fundamental Securities\n",
    "\n",
    "In the broad financial market, the fundamental securities are cash, stocks and bonds.\n",
    "\n",
    "In the market on which we defined the binomial model, the fundemntal securities are our stock (the asset that can change price), and cash (the asset that has constant value).\n",
    "\n",
    "### States of the World\n",
    "\n",
    "In the root of the binomial tree (i.e. the inital state), all $2^N$ final states are possible. When we move to a child of the root, half of the possible states are no longer attainable, and so we are left with $2^{N-1}$. Similarly, if we move to a grandchild of the root, we are left with a quarter of the initial states - $2^{N-2}$. In an arbitrary node having **depth $d$**, the number of states is $2^{N-d}$, where N is the height of the tree (or the number of steps).\n",
    "\n",
    "### Completion Definition\n",
    "\n",
    "As noted in the previous point, at each node in the tree we know the possible states of the world, and we know what the final price of the security would be in each of the states. We also know the probabilities of each of the terminal states. Any asset in this market could have its price determined, because every asset could be replicated by a combination of cash and the stock, for which we know the possible states of the world and the final values.\n",
    "\n",
    "### Impact of Jumps\n",
    "\n",
    "Price jumps of higher than u or lower than d would invalidate our definition of market completeness. Assets are priced based on expected movements of u or d of the underlying, and so larger jumps would make those prices inconsistent. We would no longer be able to know at all times the expected prices of all securities, nor would we be able to know the possible states of the world."
   ]
  }
 ],
 "metadata": {
  "kernelspec": {
   "display_name": "Python 3",
   "language": "python",
   "name": "python3"
  },
  "language_info": {
   "codemirror_mode": {
    "name": "ipython",
    "version": 3
   },
   "file_extension": ".py",
   "mimetype": "text/x-python",
   "name": "python",
   "nbconvert_exporter": "python",
   "pygments_lexer": "ipython3",
   "version": "3.9.5"
  }
 },
 "nbformat": 4,
 "nbformat_minor": 5
}
